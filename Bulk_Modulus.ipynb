{
 "cells": [
  {
   "cell_type": "code",
   "execution_count": 1,
   "metadata": {},
   "outputs": [],
   "source": [
    "# Imports we need for generating dopant suggestions\n",
    "\n",
    "from pymatgen.analysis.structure_prediction.dopant_predictor import \\\n",
    "    get_dopants_from_shannon_radii, get_dopants_from_substitution_probabilities\n",
    "from pymatgen.analysis.local_env import CrystalNN\n",
    "from pymatgen import MPRester\n",
    "from pprint import pprint"
   ]
  },
  {
   "cell_type": "code",
   "execution_count": 2,
   "metadata": {},
   "outputs": [],
   "source": [
    "# Establish rester for accessing Materials API\n",
    "\n",
    "api_key = 'xNWv4yh392wDufes'  # INSERT YOUR OWN API KEY\n",
    "\n",
    "mpr = MPRester(api_key=api_key)"
   ]
  },
  {
   "cell_type": "code",
   "execution_count": 3,
   "metadata": {},
   "outputs": [],
   "source": [
    "num_dopants = 5  # number of highest probability dopants you wish to see"
   ]
  },
  {
   "cell_type": "code",
   "execution_count": 4,
   "metadata": {},
   "outputs": [],
   "source": [
    "from pymatgen import Lattice, Structure, Molecule"
   ]
  },
  {
   "cell_type": "code",
   "execution_count": 5,
   "metadata": {},
   "outputs": [],
   "source": [
    "structure = Structure.from_file('CONTCAR')"
   ]
  },
  {
   "cell_type": "code",
   "execution_count": 6,
   "metadata": {},
   "outputs": [
    {
     "name": "stdout",
     "output_type": "stream",
     "text": [
      "The volume is 2227.23 Angstrom\n"
     ]
    }
   ],
   "source": [
    "print('The volume is ' + str(round(structure.volume, 2)) + ' Angstrom' )"
   ]
  },
  {
   "cell_type": "markdown",
   "metadata": {},
   "source": [
    "Get volumes of POSCARs to be created"
   ]
  },
  {
   "cell_type": "code",
   "execution_count": 7,
   "metadata": {},
   "outputs": [],
   "source": [
    "for i in range(101,111):\n",
    "    structure = Structure.from_file('CONTCAR')\n",
    "    mult=round(i*0.01,2)\n",
    "    #print(mult*structure.volume)\n",
    "    structure.scale_lattice(mult*structure.volume)\n",
    "    structure.to(filename='%s.POSCAR' % mult)\n",
    "    #print(structure.volume)\n",
    "   "
   ]
  },
  {
   "cell_type": "code",
   "execution_count": 8,
   "metadata": {},
   "outputs": [],
   "source": [
    "for j in range(90,100):\n",
    "    structure = Structure.from_file('CONTCAR')\n",
    "    mult=round(j*0.01,2)\n",
    "    #print(mult*structure.volume)\n",
    "    structure.scale_lattice(mult*structure.volume)\n",
    "    structure.to(filename='%s.POSCAR' % mult)"
   ]
  },
  {
   "cell_type": "markdown",
   "metadata": {},
   "source": [
    "Use lattice.scale to scale the *volume* of the input structure. Args are volumes, so first, get the volumes you want!"
   ]
  },
  {
   "cell_type": "code",
   "execution_count": null,
   "metadata": {},
   "outputs": [],
   "source": []
  },
  {
   "cell_type": "code",
   "execution_count": null,
   "metadata": {},
   "outputs": [],
   "source": []
  }
 ],
 "metadata": {
  "kernelspec": {
   "display_name": "Python 3",
   "language": "python",
   "name": "python3"
  },
  "language_info": {
   "codemirror_mode": {
    "name": "ipython",
    "version": 3
   },
   "file_extension": ".py",
   "mimetype": "text/x-python",
   "name": "python",
   "nbconvert_exporter": "python",
   "pygments_lexer": "ipython3",
   "version": "3.8.3"
  }
 },
 "nbformat": 4,
 "nbformat_minor": 4
}
